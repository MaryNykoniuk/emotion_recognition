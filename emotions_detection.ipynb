{
  "nbformat": 4,
  "nbformat_minor": 0,
  "metadata": {
    "colab": {
      "provenance": [],
      "toc_visible": true
    },
    "kernelspec": {
      "name": "python3",
      "display_name": "Python 3"
    },
    "language_info": {
      "name": "python"
    }
  },
  "cells": [
    {
      "cell_type": "code",
      "execution_count": null,
      "metadata": {
        "id": "EDoIPfe8FtDI"
      },
      "outputs": [],
      "source": [
        "from google.colab import drive\n",
        "import zipfile\n",
        "import os\n",
        "import shutil\n",
        "import cv2\n",
        "import dlib\n",
        "from google.colab.patches import cv2_imshow\n",
        "import numpy as np\n",
        "import tensorflow as tf\n",
        "from tensorflow.keras.models import Sequential\n",
        "from tensorflow.keras.layers import Dense, Dropout\n",
        "from sklearn.model_selection import train_test_split\n",
        "from sklearn.preprocessing import StandardScaler, OneHotEncoder\n",
        "import matplotlib.pyplot as plt\n",
        "from sklearn.metrics import classification_report, confusion_matrix, accuracy_score"
      ]
    },
    {
      "cell_type": "code",
      "source": [
        "drive.mount('/content/drive')"
      ],
      "metadata": {
        "colab": {
          "base_uri": "https://localhost:8080/"
        },
        "id": "3-Gk-IvvLs_t",
        "outputId": "b519d568-f8c6-433d-b15b-ff15999f25da"
      },
      "execution_count": null,
      "outputs": [
        {
          "output_type": "stream",
          "name": "stdout",
          "text": [
            "Mounted at /content/drive\n"
          ]
        }
      ]
    },
    {
      "cell_type": "markdown",
      "source": [
        "## Collect photo"
      ],
      "metadata": {
        "id": "w-pMqM9eCRQz"
      }
    },
    {
      "cell_type": "code",
      "source": [
        "path = '/content/drive/MyDrive/emotions_dataset/KDEF.zip'\n",
        "zip_object = zipfile.ZipFile(path, mode='r')\n",
        "zip_object.extractall('./')\n",
        "zip_object.close()"
      ],
      "metadata": {
        "id": "QCF3x2PfL7yg"
      },
      "execution_count": null,
      "outputs": []
    },
    {
      "cell_type": "code",
      "source": [
        "# Для кожної фотографії визначається емоція на основі назви файлу\n",
        "path = '/content/KDEF'\n",
        "root_directory = '/content/KDEF'\n",
        "emotions_directory = '/content/drive/MyDrive/emotions_dataset/KDEF_all'\n",
        "\n",
        "if not os.path.exists(emotions_directory):\n",
        "    os.makedirs(emotions_directory)\n",
        "emotions = {\n",
        "    'AF': 'afraid',\n",
        "    'AN': 'angry',\n",
        "    'DI': 'disgusted',\n",
        "    'HA': 'happy',\n",
        "    'NE': 'neutral',\n",
        "    'SA': 'sad',\n",
        "    'SU': 'surprised'\n",
        "}\n",
        "# Словник для зберігання даних: ключ - шлях до фото, значення - емоція\n",
        "photo_emotions = {}\n",
        "\n",
        "for person_folder in os.listdir(root_directory):\n",
        "    person_path = os.path.join(root_directory, person_folder)\n",
        "    if os.path.isdir(person_path):\n",
        "        for photo_filename in os.listdir(person_path):\n",
        "            photo_path = os.path.join(person_path, photo_filename)\n",
        "            _, file_extension = os.path.splitext(photo_path)\n",
        "            if file_extension.lower() in ['.jpg', '.jpeg']:\n",
        "              emotion_code = photo_filename[4:6]\n",
        "              print(emotion_code)\n",
        "              print(photo_path)\n",
        "              photo_emotions[photo_path] = emotions[emotion_code]\n",
        "\n"
      ],
      "metadata": {
        "id": "_Um8j1qYMLxz"
      },
      "execution_count": null,
      "outputs": []
    },
    {
      "cell_type": "code",
      "source": [
        "# перебір всіх фотографій в кореневій папці та видалення тих, назва яких закінчується на 'FR' або 'FL' (фронтальна позиція праворуч або фронтальна позиція ліворуч)\n",
        "root_directory = '/content/drive/MyDrive/emotions_dataset/KDEF_all'\n",
        "# Перебір папок (людей) у кореневій директорії\n",
        "for emotion_folder in os.listdir(root_directory):\n",
        "    emotion_path = os.path.join(root_directory, emotion_folder)\n",
        "    for photo_filename in os.listdir(emotion_path):\n",
        "      photo_path = os.path.join(emotion_path, photo_filename)\n",
        "      print(photo_path)\n",
        "      name_file, file_extension = os.path.splitext(photo_filename)\n",
        "      if name_file[-2:] == 'FR' or name_file[-2:] == 'FL':\n",
        "        os.remove(photo_path)\n"
      ],
      "metadata": {
        "id": "0i23-D8fZfYr"
      },
      "execution_count": null,
      "outputs": []
    },
    {
      "cell_type": "code",
      "source": [
        "# Перебір словника та копіювання фото у відповідні папки емоцій\n",
        "for photo_path, emotion_code in photo_emotions.items():\n",
        "    emotion_path = os.path.join(emotions_directory, emotion_code)\n",
        "    # Створення папки емоції, якщо вона ще не існує\n",
        "    if not os.path.exists(emotion_path):\n",
        "        os.makedirs(emotion_path)\n",
        "    # Копіювання фото у папку емоції\n",
        "    shutil.copy(photo_path, emotion_path)\n",
        "\n",
        "print(f\"Фотографії були успішно відсортовані за емоціями у папку: {emotions_directory}\")"
      ],
      "metadata": {
        "colab": {
          "base_uri": "https://localhost:8080/"
        },
        "id": "Hg7hCISXOIyH",
        "outputId": "08566446-f973-401e-83fe-982dc7c10714"
      },
      "execution_count": null,
      "outputs": [
        {
          "output_type": "stream",
          "name": "stdout",
          "text": [
            "Фотографії були успішно відсортовані за емоціями у папку: /content/drive/MyDrive/emotions_dataset/KDEF_all\n"
          ]
        }
      ]
    },
    {
      "cell_type": "code",
      "source": [
        "path = '/content/KDEF'\n",
        "root_directory = '/content/drive/MyDrive/emotions_dataset/KDEF_all'\n",
        "\n",
        "# Словник для зберігання даних: ключ - шлях до фото, значення - емоція\n",
        "photo_paths = []\n",
        "\n",
        "# Перебір папок (людей) у кореневій директорії\n",
        "for emotion_folder in os.listdir(root_directory):\n",
        "    emotion_path = os.path.join(root_directory, emotion_folder)\n",
        "    for photo_filename in os.listdir(emotion_path):\n",
        "      photo_path = os.path.join(emotion_path, photo_filename)\n",
        "      photo_paths.append((photo_path, emotion_folder))\n",
        "\n"
      ],
      "metadata": {
        "id": "0JHSBvhjNTBD"
      },
      "execution_count": null,
      "outputs": []
    },
    {
      "cell_type": "markdown",
      "source": [
        "## Create features"
      ],
      "metadata": {
        "id": "aFUEGerOCcJ2"
      }
    },
    {
      "cell_type": "code",
      "source": [
        "# процес детекції обличчя та знаходження ключових точок (лендмарків) на зображеннях облич\n",
        "landmarks_all = []\n",
        "emotions = []\n",
        "predictor_path = '/content/drive/MyDrive/emotions_dataset/shape_predictor_68_face_landmarks.dat'\n",
        "detector = dlib.get_frontal_face_detector()\n",
        "# Завантаження попередньо навченої моделі для детекції лендмарків\n",
        "predictor = dlib.shape_predictor(predictor_path)\n",
        "\n",
        "for image_path, emotion in photo_paths:\n",
        "\n",
        "  image = cv2.imread(image_path)\n",
        "  gray = cv2.cvtColor(image, cv2.COLOR_BGR2GRAY)\n",
        "  faces = detector(gray, 1)\n",
        "\n",
        "  for (i, face) in enumerate(faces):\n",
        "      landmarks = predictor(gray, face)\n",
        "      landmarks_all.append(landmarks)\n",
        "      emotions.append(emotion)"
      ],
      "metadata": {
        "id": "R55T5vORYlPm"
      },
      "execution_count": null,
      "outputs": []
    },
    {
      "cell_type": "code",
      "source": [
        "# розрахунок геометричних величин (відстаней і кутів) між точками\n",
        "def calculate_distance(point1, point2):\n",
        "  point1 = (point1.x, point1.y)\n",
        "  point2 = (point2.x, point2.y)\n",
        "  return np.linalg.norm(np.array(point1) - np.array(point2))\n",
        "\n",
        "def calculate_angle(point1, point2, point3):\n",
        "    \"\"\"Розрахунок кута між трьома точками, p2 - вершина кута.\"\"\"\n",
        "    point1 = (point1.x, point1.y)\n",
        "    point2 = (point2.x, point2.y)\n",
        "    point3 = (point3.x, point3.y)\n",
        "    p1 = np.array(point1)\n",
        "    p2 = np.array(point2)\n",
        "    p3 = np.array(point3)\n",
        "    ba = p1 - p2\n",
        "    bc = p3 - p2\n",
        "\n",
        "    cosine_angle = np.dot(ba, bc) / (np.linalg.norm(ba) * np.linalg.norm(bc))\n",
        "    angle = np.arccos(cosine_angle)\n",
        "\n",
        "    return np.degrees(angle)"
      ],
      "metadata": {
        "id": "34akVzZFCCwv"
      },
      "execution_count": null,
      "outputs": []
    },
    {
      "cell_type": "code",
      "source": [
        "landmarks_all[0].part(0), landmarks_all[0].part(1)"
      ],
      "metadata": {
        "colab": {
          "base_uri": "https://localhost:8080/"
        },
        "id": "86IWj5pySaH3",
        "outputId": "c1f5c1b9-3bd3-4ee2-ec81-db7c17eba37c"
      },
      "execution_count": null,
      "outputs": [
        {
          "output_type": "execute_result",
          "data": {
            "text/plain": [
              "(point(105, 393), point(92, 417))"
            ]
          },
          "metadata": {},
          "execution_count": 48
        }
      ]
    },
    {
      "cell_type": "code",
      "source": [
        "# обчислення ознак\n",
        "features = []\n",
        "for i in range(len(landmarks_all)):\n",
        "  # Ознака 1: Відстань між куточками рота\n",
        "  distance_mouth_corners = calculate_distance(landmarks_all[i].part(48), landmarks_all[i].part(54))\n",
        "\n",
        "  # Ознака 2: Відстань між бровами\n",
        "  distance_eyebrows = calculate_distance(landmarks_all[i].part(21), landmarks_all[i].part(22))\n",
        "\n",
        "  # Ознака 3: Відстань між верхньою губою і носом\n",
        "  distance_nose_to_upper_lip = calculate_distance(landmarks_all[i].part(33), landmarks_all[i].part(51))\n",
        "\n",
        "  # Ознака 4: Кут нахилу брів (беремо три точки для брови, щоб визначити кут)\n",
        "  angle_left_eyebrow = calculate_angle(landmarks_all[i].part(17), landmarks_all[i].part(19), landmarks_all[i].part(21))\n",
        "  angle_right_eyebrow = calculate_angle(landmarks_all[i].part(22), landmarks_all[i].part(24), landmarks_all[i].part(26))\n",
        "\n",
        "  # Ознака 5: Відкриття очей (відстань між верхнім і нижнім віком)\n",
        "  left_eye_opening = calculate_distance(landmarks_all[i].part(37), landmarks_all[i].part(41))\n",
        "  right_eye_opening = calculate_distance(landmarks_all[i].part(44), landmarks_all[i].part(46))\n",
        "\n",
        "  # Ознака 6: Ширина носа (відстань між крилами носа)\n",
        "  nose_width = calculate_distance(landmarks_all[i].part(31), landmarks_all[i].part(35))\n",
        "\n",
        "  # Ознака 7: Відстань між бровою і верхньою частиною віка для кожного ока\n",
        "  distance_eyebrow_upper_eyelid_left = calculate_distance(landmarks_all[i].part(20), landmarks_all[i].part(37))\n",
        "  distance_eyebrow_upper_eyelid_right = calculate_distance(landmarks_all[i].part(23), landmarks_all[i].part(44))\n",
        "\n",
        "  # Ознака 8: Висота рота (відстань між верхньою та нижньою губами)\n",
        "  mouth_height = calculate_distance(landmarks_all[i].part(51), landmarks_all[i].part(57))\n",
        "\n",
        "  # Ознака 9: Відстані між кінчиком носа і кожним куточком рота\n",
        "  nose_tip_to_mouth_corner_left = calculate_distance(landmarks_all[i].part(33), landmarks_all[i].part(48))\n",
        "  nose_tip_to_mouth_corner_right = calculate_distance(landmarks_all[i].part(33), landmarks_all[i].part(54))\n",
        "\n",
        "  # Ознака 10: Відстань між центром очей і куточками рота\n",
        "  eyes_center_to_mouth_left = calculate_distance(landmarks_all[i].part(40), landmarks_all[i].part(48))\n",
        "  eyes_center_to_mouth_right = calculate_distance(landmarks_all[i].part(47), landmarks_all[i].part(54))\n",
        "\n",
        "  features.append([distance_mouth_corners, distance_eyebrows, distance_nose_to_upper_lip, angle_left_eyebrow, angle_right_eyebrow, left_eye_opening, right_eye_opening,\n",
        "                   nose_width, distance_eyebrow_upper_eyelid_left, distance_eyebrow_upper_eyelid_right, mouth_height, nose_tip_to_mouth_corner_left,\n",
        "                   nose_tip_to_mouth_corner_right, eyes_center_to_mouth_left, eyes_center_to_mouth_right])"
      ],
      "metadata": {
        "id": "95oAysMSSguz"
      },
      "execution_count": null,
      "outputs": []
    },
    {
      "cell_type": "code",
      "source": [
        "len(features[0])"
      ],
      "metadata": {
        "colab": {
          "base_uri": "https://localhost:8080/"
        },
        "id": "mysK29StFFA0",
        "outputId": "f8102e6e-5591-4a9a-c954-afb031fe0483"
      },
      "execution_count": null,
      "outputs": [
        {
          "output_type": "execute_result",
          "data": {
            "text/plain": [
              "15"
            ]
          },
          "metadata": {},
          "execution_count": 14
        }
      ]
    },
    {
      "cell_type": "code",
      "source": [
        "with open('features.npy', 'wb') as f:\n",
        "    np.save(f, features)"
      ],
      "metadata": {
        "id": "kb5GifNKQ8zw"
      },
      "execution_count": null,
      "outputs": []
    },
    {
      "cell_type": "code",
      "source": [
        "with open('emotions.npy', 'wb') as f:\n",
        "    np.save(f, emotions)"
      ],
      "metadata": {
        "id": "PndDWi6TRChi"
      },
      "execution_count": null,
      "outputs": []
    },
    {
      "cell_type": "markdown",
      "source": [
        "## Model training"
      ],
      "metadata": {
        "id": "Y0ZMLyo5CyBL"
      }
    },
    {
      "cell_type": "code",
      "source": [
        "X = np.asarray(features)\n",
        "y = np.asarray(emotions)"
      ],
      "metadata": {
        "id": "yM7VvedKFcMs"
      },
      "execution_count": null,
      "outputs": []
    },
    {
      "cell_type": "code",
      "source": [
        "X.shape"
      ],
      "metadata": {
        "colab": {
          "base_uri": "https://localhost:8080/"
        },
        "id": "tYNK__EVF-_p",
        "outputId": "5409baa4-5e34-42f0-dc1b-fcd325513edc"
      },
      "execution_count": null,
      "outputs": [
        {
          "output_type": "execute_result",
          "data": {
            "text/plain": [
              "(2929, 15)"
            ]
          },
          "metadata": {},
          "execution_count": 219
        }
      ]
    },
    {
      "cell_type": "code",
      "source": [
        "y.shape"
      ],
      "metadata": {
        "colab": {
          "base_uri": "https://localhost:8080/"
        },
        "id": "oLjCfwODF_4z",
        "outputId": "d307a792-018d-441e-b9c1-a32baa0a9cff"
      },
      "execution_count": null,
      "outputs": [
        {
          "output_type": "execute_result",
          "data": {
            "text/plain": [
              "(2929,)"
            ]
          },
          "metadata": {},
          "execution_count": 217
        }
      ]
    },
    {
      "cell_type": "code",
      "source": [
        "scaler = StandardScaler()\n",
        "X_scaled = scaler.fit_transform(X)\n",
        "\n",
        "# Кодування цільової змінної\n",
        "encoder = OneHotEncoder(sparse=False)\n",
        "y_encoded = encoder.fit_transform(y.reshape(-1, 1))"
      ],
      "metadata": {
        "id": "rLVM5Iz0GL0h"
      },
      "execution_count": null,
      "outputs": []
    },
    {
      "cell_type": "code",
      "source": [
        "encoder.categories_"
      ],
      "metadata": {
        "colab": {
          "base_uri": "https://localhost:8080/"
        },
        "id": "WnDp6ZBGGn8f",
        "outputId": "ee29cd20-00c2-4432-900b-f5578904a2ae"
      },
      "execution_count": null,
      "outputs": [
        {
          "output_type": "execute_result",
          "data": {
            "text/plain": [
              "[array(['afraid', 'angry', 'disgusted', 'happy', 'neutral', 'sad',\n",
              "        'surprised'], dtype='<U9')]"
            ]
          },
          "metadata": {},
          "execution_count": 148
        }
      ]
    },
    {
      "cell_type": "code",
      "source": [
        "# Розділення даних на тренувальний і тестовий набори\n",
        "X_train, X_test, y_train, y_test = train_test_split(X_scaled, y_encoded, test_size=0.2, random_state=42)"
      ],
      "metadata": {
        "id": "R33Sf7ouGSNy"
      },
      "execution_count": null,
      "outputs": []
    },
    {
      "cell_type": "code",
      "source": [
        "model = Sequential([\n",
        "    Dense(128, activation='relu', input_shape=(X_train.shape[1],)),\n",
        "    Dropout(0.2),\n",
        "    Dense(64, activation='relu'),\n",
        "    Dropout(0.2),\n",
        "    Dense(32, activation='relu'),\n",
        "    Dropout(0.2),\n",
        "    Dense(7, activation='softmax')\n",
        "])\n",
        "\n",
        "model.compile(optimizer='adam',\n",
        "              loss='categorical_crossentropy',\n",
        "              metrics=['accuracy'])\n",
        "\n",
        "model.summary()"
      ],
      "metadata": {
        "colab": {
          "base_uri": "https://localhost:8080/"
        },
        "id": "Ma4FqMC1Grgn",
        "outputId": "e401e893-52d8-46b6-90e9-ecb5a2183860"
      },
      "execution_count": null,
      "outputs": [
        {
          "output_type": "stream",
          "name": "stdout",
          "text": [
            "Model: \"sequential_17\"\n",
            "_________________________________________________________________\n",
            " Layer (type)                Output Shape              Param #   \n",
            "=================================================================\n",
            " dense_69 (Dense)            (None, 128)               2048      \n",
            "                                                                 \n",
            " dropout_47 (Dropout)        (None, 128)               0         \n",
            "                                                                 \n",
            " dense_70 (Dense)            (None, 64)                8256      \n",
            "                                                                 \n",
            " dropout_48 (Dropout)        (None, 64)                0         \n",
            "                                                                 \n",
            " dense_71 (Dense)            (None, 32)                2080      \n",
            "                                                                 \n",
            " dropout_49 (Dropout)        (None, 32)                0         \n",
            "                                                                 \n",
            " dense_72 (Dense)            (None, 7)                 231       \n",
            "                                                                 \n",
            "=================================================================\n",
            "Total params: 12615 (49.28 KB)\n",
            "Trainable params: 12615 (49.28 KB)\n",
            "Non-trainable params: 0 (0.00 Byte)\n",
            "_________________________________________________________________\n"
          ]
        }
      ]
    },
    {
      "cell_type": "code",
      "source": [
        "callback = tf.keras.callbacks.EarlyStopping(monitor='val_accuracy', patience=5)"
      ],
      "metadata": {
        "id": "cM7K-5hrOcS7"
      },
      "execution_count": null,
      "outputs": []
    },
    {
      "cell_type": "code",
      "source": [
        "history = model.fit(X_train, y_train,validation_data=(X_test, y_test), epochs=80, batch_size=16, callbacks=[callback])"
      ],
      "metadata": {
        "colab": {
          "base_uri": "https://localhost:8080/"
        },
        "id": "5PXDXHVCGxNU",
        "outputId": "40daee10-35b7-4dff-f894-06a67c4f5d85"
      },
      "execution_count": null,
      "outputs": [
        {
          "output_type": "stream",
          "name": "stdout",
          "text": [
            "Epoch 1/80\n",
            "147/147 [==============================] - 2s 5ms/step - loss: 1.5050 - accuracy: 0.4238 - val_loss: 0.9362 - val_accuracy: 0.6980\n",
            "Epoch 2/80\n",
            "147/147 [==============================] - 0s 3ms/step - loss: 1.0345 - accuracy: 0.6253 - val_loss: 0.7730 - val_accuracy: 0.7270\n",
            "Epoch 3/80\n",
            "147/147 [==============================] - 0s 3ms/step - loss: 0.8837 - accuracy: 0.6765 - val_loss: 0.7097 - val_accuracy: 0.7253\n",
            "Epoch 4/80\n",
            "147/147 [==============================] - 0s 3ms/step - loss: 0.8581 - accuracy: 0.6786 - val_loss: 0.6744 - val_accuracy: 0.7491\n",
            "Epoch 5/80\n",
            "147/147 [==============================] - 0s 3ms/step - loss: 0.8127 - accuracy: 0.6940 - val_loss: 0.6812 - val_accuracy: 0.7389\n",
            "Epoch 6/80\n",
            "147/147 [==============================] - 0s 3ms/step - loss: 0.7886 - accuracy: 0.7072 - val_loss: 0.6507 - val_accuracy: 0.7526\n",
            "Epoch 7/80\n",
            "147/147 [==============================] - 0s 3ms/step - loss: 0.7641 - accuracy: 0.7166 - val_loss: 0.6377 - val_accuracy: 0.7474\n",
            "Epoch 8/80\n",
            "147/147 [==============================] - 0s 3ms/step - loss: 0.7494 - accuracy: 0.7213 - val_loss: 0.6388 - val_accuracy: 0.7560\n",
            "Epoch 9/80\n",
            "147/147 [==============================] - 0s 3ms/step - loss: 0.7073 - accuracy: 0.7337 - val_loss: 0.6272 - val_accuracy: 0.7628\n",
            "Epoch 10/80\n",
            "147/147 [==============================] - 0s 3ms/step - loss: 0.7196 - accuracy: 0.7469 - val_loss: 0.6257 - val_accuracy: 0.7747\n",
            "Epoch 11/80\n",
            "147/147 [==============================] - 0s 3ms/step - loss: 0.6986 - accuracy: 0.7418 - val_loss: 0.6364 - val_accuracy: 0.7577\n",
            "Epoch 12/80\n",
            "147/147 [==============================] - 0s 3ms/step - loss: 0.6762 - accuracy: 0.7593 - val_loss: 0.6317 - val_accuracy: 0.7611\n",
            "Epoch 13/80\n",
            "147/147 [==============================] - 0s 3ms/step - loss: 0.6739 - accuracy: 0.7473 - val_loss: 0.6122 - val_accuracy: 0.7696\n",
            "Epoch 14/80\n",
            "147/147 [==============================] - 0s 3ms/step - loss: 0.6685 - accuracy: 0.7610 - val_loss: 0.5903 - val_accuracy: 0.7782\n",
            "Epoch 15/80\n",
            "147/147 [==============================] - 2s 14ms/step - loss: 0.6534 - accuracy: 0.7589 - val_loss: 0.5842 - val_accuracy: 0.7816\n",
            "Epoch 16/80\n",
            "147/147 [==============================] - 1s 6ms/step - loss: 0.6628 - accuracy: 0.7554 - val_loss: 0.5763 - val_accuracy: 0.7730\n",
            "Epoch 17/80\n",
            "147/147 [==============================] - 1s 5ms/step - loss: 0.6399 - accuracy: 0.7708 - val_loss: 0.5769 - val_accuracy: 0.7884\n",
            "Epoch 18/80\n",
            "147/147 [==============================] - 1s 6ms/step - loss: 0.6291 - accuracy: 0.7717 - val_loss: 0.5877 - val_accuracy: 0.7679\n",
            "Epoch 19/80\n",
            "147/147 [==============================] - 0s 3ms/step - loss: 0.6358 - accuracy: 0.7674 - val_loss: 0.5679 - val_accuracy: 0.7952\n",
            "Epoch 20/80\n",
            "147/147 [==============================] - 0s 3ms/step - loss: 0.6069 - accuracy: 0.7793 - val_loss: 0.6191 - val_accuracy: 0.7765\n",
            "Epoch 21/80\n",
            "147/147 [==============================] - 1s 3ms/step - loss: 0.6106 - accuracy: 0.7802 - val_loss: 0.5763 - val_accuracy: 0.7867\n",
            "Epoch 22/80\n",
            "147/147 [==============================] - 1s 3ms/step - loss: 0.6080 - accuracy: 0.7875 - val_loss: 0.6011 - val_accuracy: 0.7730\n",
            "Epoch 23/80\n",
            "147/147 [==============================] - 1s 4ms/step - loss: 0.5852 - accuracy: 0.7875 - val_loss: 0.5762 - val_accuracy: 0.7799\n",
            "Epoch 24/80\n",
            "147/147 [==============================] - 0s 3ms/step - loss: 0.5829 - accuracy: 0.7875 - val_loss: 0.5646 - val_accuracy: 0.7850\n"
          ]
        }
      ]
    },
    {
      "cell_type": "code",
      "source": [
        "plt.plot(history.history['loss'])\n",
        "plt.plot(history.history['val_loss'])"
      ],
      "metadata": {
        "colab": {
          "base_uri": "https://localhost:8080/",
          "height": 448
        },
        "id": "x7qTJJ9vPDQA",
        "outputId": "a7fec74c-52eb-4b14-8fc8-bbe5392da2d6"
      },
      "execution_count": null,
      "outputs": [
        {
          "output_type": "execute_result",
          "data": {
            "text/plain": [
              "[<matplotlib.lines.Line2D at 0x7e73ffe33400>]"
            ]
          },
          "metadata": {},
          "execution_count": 90
        },
        {
          "output_type": "display_data",
          "data": {
            "text/plain": [
              "<Figure size 640x480 with 1 Axes>"
            ],
            "image/png": "[encoded data removed]"
          },
          "metadata": {}
        }
      ]
    },
    {
      "cell_type": "markdown",
      "source": [
        "## Model testing"
      ],
      "metadata": {
        "id": "tUv0z-vRC8ua"
      }
    },
    {
      "cell_type": "code",
      "source": [
        "predictions = model.predict(X_test)"
      ],
      "metadata": {
        "colab": {
          "base_uri": "https://localhost:8080/"
        },
        "id": "KJSe7KARHRtF",
        "outputId": "c01285e0-b2c2-41cb-b8d4-64a64f018faf"
      },
      "execution_count": null,
      "outputs": [
        {
          "output_type": "stream",
          "name": "stdout",
          "text": [
            "19/19 [==============================] - 0s 2ms/step\n"
          ]
        }
      ]
    },
    {
      "cell_type": "code",
      "source": [
        "predicted_classes = np.argmax(predictions, axis=1)\n",
        "\n",
        "# Створюємо One-Hot вектори для прогнозованих класів\n",
        "predicted_one_hot = np.eye(7)[predicted_classes]"
      ],
      "metadata": {
        "id": "mVJ-kzfNIYX3"
      },
      "execution_count": null,
      "outputs": []
    },
    {
      "cell_type": "code",
      "source": [
        "print(classification_report(y_test, predicted_one_hot))"
      ],
      "metadata": {
        "colab": {
          "base_uri": "https://localhost:8080/"
        },
        "id": "XTH84LZwHNAZ",
        "outputId": "a61f6d0a-3e0c-42db-b5cf-48c8c467e03f"
      },
      "execution_count": null,
      "outputs": [
        {
          "output_type": "stream",
          "name": "stdout",
          "text": [
            "              precision    recall  f1-score   support\n",
            "\n",
            "           0       0.76      0.43      0.55        81\n",
            "           1       0.76      0.81      0.78        83\n",
            "           2       0.87      0.75      0.81        92\n",
            "           3       0.96      0.97      0.96        89\n",
            "           4       0.77      0.82      0.79        82\n",
            "           5       0.61      0.78      0.68        73\n",
            "           6       0.77      0.92      0.84        86\n",
            "\n",
            "   micro avg       0.78      0.78      0.78       586\n",
            "   macro avg       0.79      0.78      0.77       586\n",
            "weighted avg       0.79      0.78      0.78       586\n",
            " samples avg       0.78      0.78      0.78       586\n",
            "\n"
          ]
        }
      ]
    },
    {
      "cell_type": "code",
      "source": [
        "model.save('my_model.h5')"
      ],
      "metadata": {
        "id": "kOG_AgYAOAmH"
      },
      "execution_count": null,
      "outputs": []
    }
  ]
}